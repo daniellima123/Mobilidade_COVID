{
 "metadata": {
  "language_info": {
   "codemirror_mode": {
    "name": "ipython",
    "version": 3
   },
   "file_extension": ".py",
   "mimetype": "text/x-python",
   "name": "python",
   "nbconvert_exporter": "python",
   "pygments_lexer": "ipython3",
   "version": 3
  },
  "orig_nbformat": 2
 },
 "nbformat": 4,
 "nbformat_minor": 2,
 "cells": [
  {
   "source": [
    "# Mobilidade Em Locais Públicos e a COVID-19\n",
    "\n",
    "A COVID-19 é uma infecção respiratória causada pelo coronavírus SARS-CoV-2, com transmissibilidade alta e de distribuição global. Devido a essa infecção, foi declarada pela OMS uma pandemia desde o dia 11/3/2020 e se extende até o momento em que esse estudo é realizado. \n",
    "\n",
    "Em vista dessas informações, é de extrema importância entender como tem ocorrido a transmissão do vírus, assim como a taxa de ocupação dos hospitais. Para a análise dessas informações no Brasil, serão utilizados dados consultados no site do [OpenDATASUS](https://opendatasus.saude.gov.br/) e no portal [CORONAVÍRUS BRASIL](https://covid.saude.gov.br/).\n",
    "\n",
    "\n",
    "Esse estudo busca explicar de forma breve a relação entre a COVID-19 no Brasil e os dados de mobilidade disponibilizados pela [Google](https://www.google.com/covid19/mobility/)."
   ],
   "cell_type": "markdown",
   "metadata": {}
  }
 ]
}