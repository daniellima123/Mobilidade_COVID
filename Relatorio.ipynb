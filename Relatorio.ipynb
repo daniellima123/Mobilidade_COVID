{
 "metadata": {
  "language_info": {
   "codemirror_mode": {
    "name": "ipython",
    "version": 3
   },
   "file_extension": ".py",
   "mimetype": "text/x-python",
   "name": "python",
   "nbconvert_exporter": "python",
   "pygments_lexer": "ipython3",
   "version": "3.7.4"
  },
  "orig_nbformat": 2,
  "kernelspec": {
   "name": "python374jvsc74a57bd020095610f18a3268815da2e700e8452467ae104b71ca0ca74a40afa76fc500a6",
   "display_name": "Python 3.7.4 64-bit (conda)"
  }
 },
 "nbformat": 4,
 "nbformat_minor": 2,
 "cells": [
  {
   "source": [
    "# Mobilidade Em Locais Públicos e a COVID-19\n",
    "\n",
    "A COVID-19 é uma infecção respiratória causada pelo coronavírus SARS-CoV-2, com transmissibilidade alta e de distribuição global. Devido a essa infecção, foi declarada pela OMS uma pandemia desde o dia 11/3/2020 e se extende até o momento em que esse estudo é realizado. \n",
    "\n",
    "Em vista dessas informações, é de extrema importância entender como tem ocorrido a transmissão do vírus, assim como a taxa de ocupação dos hospitais. Para a análise dessas informações no Brasil, serão utilizados dados consultados no site do [OpenDATASUS](https://opendatasus.saude.gov.br/) e no portal [CORONAVÍRUS BRASIL](https://covid.saude.gov.br/).\n",
    "\n",
    "Esse estudo busca explicar de forma breve a relação entre a COVID-19 no Brasil e os dados de mobilidade disponibilizados pela [Google](https://www.google.com/covid19/mobility/). Através do Google Maps, eles obtiveram informações de movimentação em diversos lugares públicos tais como mercado, parques, estações de trânsito e etc.\n",
    "\n",
    "## Iniciando o ambiente"
   ],
   "cell_type": "markdown",
   "metadata": {}
  },
  {
   "cell_type": "code",
   "execution_count": 1,
   "metadata": {},
   "outputs": [],
   "source": [
    "import pandas as pd\n",
    "import matplotlib.pyplot as plt\n",
    "import seaborn as sns\n",
    "import scripts.Utils as Utils\n"
   ]
  },
  {
   "cell_type": "code",
   "execution_count": 2,
   "metadata": {},
   "outputs": [
    {
     "output_type": "stream",
     "name": "stderr",
     "text": [
      "C:\\Users\\PC\\Anaconda3\\lib\\site-packages\\IPython\\core\\interactiveshell.py:3249: DtypeWarning: Columns (5) have mixed types. Specify dtype option on import or set low_memory=False.\n  if (await self.run_code(code, result,  async_=asy)):\n"
     ]
    }
   ],
   "source": [
    "df_mob = Utils.read_data()"
   ]
  },
  {
   "cell_type": "code",
   "execution_count": 4,
   "metadata": {},
   "outputs": [
    {
     "output_type": "execute_result",
     "data": {
      "text/plain": [
       "(590689, 15)"
      ]
     },
     "metadata": {},
     "execution_count": 4
    }
   ],
   "source": []
  }
 ]
}